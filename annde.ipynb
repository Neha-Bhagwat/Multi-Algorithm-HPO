{
 "cells": [
  {
   "cell_type": "code",
   "execution_count": null,
   "id": "b945bb5d",
   "metadata": {},
   "outputs": [],
   "source": [
    "import pandas as pd\n",
    "import numpy as np\n",
    "import tensorflow as tf\n",
    "import matplotlib.pyplot as plt"
   ]
  },
  {
   "cell_type": "code",
   "execution_count": null,
   "id": "0eab95ed",
   "metadata": {},
   "outputs": [],
   "source": [
    "from tensorflow import keras\n",
    "from sklearn.model_selection import train_test_split\n",
    "from sklearn.preprocessing import StandardScaler\n",
    "from scipy.optimize import differential_evolution\n"
   ]
  },
  {
   "cell_type": "code",
   "execution_count": null,
   "id": "ae5038db",
   "metadata": {},
   "outputs": [],
   "source": []
  },
  {
   "cell_type": "code",
   "execution_count": null,
   "id": "3aedc16b",
   "metadata": {},
   "outputs": [],
   "source": []
  },
  {
   "cell_type": "code",
   "execution_count": null,
   "id": "08210901",
   "metadata": {},
   "outputs": [],
   "source": [
    "df = pd.read_csv(\"ECTA 2023 Dataset.csv\")\n",
    "features = ['Relative Humidity', 'Wind Speed', 'Visibility', 'Pressure', 'Wind_Chill', 'Dewpoint Temp']\n",
    "target = 'Temperature'"
   ]
  },
  {
   "cell_type": "code",
   "execution_count": null,
   "id": "ec761e46",
   "metadata": {},
   "outputs": [],
   "source": [
    "df = df.dropna()\n",
    "X = df[features].values\n",
    "y = df[target].values"
   ]
  },
  {
   "cell_type": "code",
   "execution_count": null,
   "id": "2f926e28",
   "metadata": {},
   "outputs": [],
   "source": [
    "X_train, X_test, y_train, y_test = train_test_split(X, y, test_size=0.2, random_state=42)\n",
    "scaler = StandardScaler()\n",
    "X_train = scaler.fit_transform(X_train)\n",
    "X_test = scaler.transform(X_test)"
   ]
  },
  {
   "cell_type": "code",
   "execution_count": null,
   "id": "7a90160d",
   "metadata": {},
   "outputs": [],
   "source": [
    "def build_ann(lr, neurons1, neurons2):\n",
    "    model = keras.Sequential([\n",
    "        keras.layers.Dense(neurons1, activation='relu', input_shape=(X_train.shape[1],)),\n",
    "        keras.layers.Dense(neurons2, activation='relu'),\n",
    "        keras.layers.Dense(1, activation='linear')\n",
    "    ])\n",
    "    optimizer = keras.optimizers.Adam(learning_rate=lr)\n",
    "    model.compile(optimizer=optimizer, loss='mean_squared_error', metrics=['mae'])\n",
    "    return model\n"
   ]
  },
  {
   "cell_type": "code",
   "execution_count": null,
   "id": "63237361",
   "metadata": {},
   "outputs": [],
   "source": [
    "HP_BOUNDS = [(0.0001, 0.1), (16, 128), (16, 128), (8, 64)]\n",
    "\n",
    "eval_counter = 0  # Keep track of number of evaluations\n",
    "\n",
    "def evaluate(individual):\n",
    "    global eval_counter\n",
    "    eval_counter += 1\n",
    "    lr, neurons1, neurons2, batch_size = individual\n",
    "    neurons1, neurons2, batch_size = int(neurons1), int(neurons2), int(batch_size)\n",
    "    print(f\"\\n[{eval_counter}] Evaluating: LR={lr:.5f}, Neurons1={neurons1}, Neurons2={neurons2}, Batch Size={batch_size}\")\n",
    "    \n",
    "    model = build_ann(lr, neurons1, neurons2)\n",
    "    history = model.fit(X_train, y_train, epochs=10, batch_size=batch_size, verbose=1)\n",
    "    \n",
    "    loss, mae = model.evaluate(X_test, y_test, verbose=1)\n",
    "    print(f\"[{eval_counter}] MAE: {mae:.4f}\")\n",
    "    \n",
    "    return mae"
   ]
  },
  {
   "cell_type": "code",
   "execution_count": null,
   "id": "53e2037e",
   "metadata": {},
   "outputs": [],
   "source": [
    "HP_BOUNDS = [(0.0001, 0.1), (16, 128), (16, 128), (8, 64)]\n",
    "\n",
    "eval_counter = 0  # Track number of model evaluations\n",
    "\n",
    "def evaluate(individual):\n",
    "    global eval_counter\n",
    "    eval_counter += 1\n",
    "    lr, neurons1, neurons2, batch_size = individual\n",
    "    neurons1, neurons2, batch_size = int(neurons1), int(neurons2), int(batch_size)\n",
    "    print(f\"\\n[{eval_counter}] Evaluating: LR={lr:.5f}, Neurons1={neurons1}, Neurons2={neurons2}, Batch Size={batch_size}\")\n",
    "\n",
    "    model = build_ann(lr, neurons1, neurons2)\n",
    "    history = model.fit(X_train, y_train, epochs=10, batch_size=batch_size, verbose=1)  # ✅ Show progress\n",
    "\n",
    "    loss, mae = model.evaluate(X_test, y_test, verbose=1)\n",
    "    print(f\"[{eval_counter}] MAE: {mae:.4f}\")\n",
    "    return mae"
   ]
  },
  {
   "cell_type": "code",
   "execution_count": null,
   "id": "b1e1904c",
   "metadata": {},
   "outputs": [],
   "source": [
    "result = differential_evolution(\n",
    "    evaluate,\n",
    "    HP_BOUNDS,\n",
    "    strategy='best1bin',\n",
    "    popsize=5,\n",
    "    mutation=0.5,\n",
    "    recombination=0.7,\n",
    "    maxiter=1,             \n",
    "    polish=False,         \n",
    "    disp=True,              \n",
    "    workers=1\n",
    ")\n"
   ]
  },
  {
   "cell_type": "code",
   "execution_count": null,
   "id": "37a96b80",
   "metadata": {},
   "outputs": [],
   "source": [
    "best_hyperparams = result.x\n",
    "print(f\"Best Hyperparameters: {best_hyperparams}\")\n",
    "\n",
    "best_hyperparams = result.x\n",
    "print(f\"\\nBest Hyperparameters: {best_hyperparams}\")\n",
    "\n",
    "\n",
    "best_lr, best_neurons1, best_neurons2, best_batch_size = best_hyperparams\n",
    "final_model = build_ann(best_lr, int(best_neurons1), int(best_neurons2))\n",
    "final_model.fit(X_train, y_train, epochs=50, batch_size=int(best_batch_size), \n",
    "                validation_data=(X_test, y_test), verbose=1)"
   ]
  },
  {
   "cell_type": "code",
   "execution_count": null,
   "id": "dd4a199a",
   "metadata": {},
   "outputs": [],
   "source": [
    "loss, mae = final_model.evaluate(X_test, y_test, verbose=1)\n",
    "print(f\"Final Model Test MAE: {mae:.4f}\")\n",
    "y_pred = final_model.predict(X_test, verbose=1)"
   ]
  },
  {
   "cell_type": "code",
   "execution_count": null,
   "id": "4928b725",
   "metadata": {},
   "outputs": [],
   "source": [
    "plt.figure(figsize=(10, 5))\n",
    "plt.plot(y_test[:10], label='Actual Temperature', color='blue', marker='o')\n",
    "plt.plot(y_pred[:10], label='Predicted Temperature', color='red', linestyle='dashed', marker='x')\n",
    "plt.legend()\n",
    "plt.xlabel(\"Sample Index\")\n",
    "plt.ylabel(\"Temperature\")\n",
    "plt.title(\"Actual vs. Predicted Temperature (10 samples)\")\n",
    "plt.show()"
   ]
  },
  {
   "cell_type": "code",
   "execution_count": null,
   "id": "ecd377f6",
   "metadata": {},
   "outputs": [],
   "source": [
    "future_X = np.tile(np.mean(X_test, axis=0), (24, 1))\n",
    "future_y_pred = final_model.predict(future_X, verbose=1)"
   ]
  },
  {
   "cell_type": "code",
   "execution_count": null,
   "id": "14e4fea3",
   "metadata": {},
   "outputs": [],
   "source": [
    "plt.figure(figsize=(10, 5))\n",
    "plt.plot(future_y_pred, marker='o', linestyle='dashed', color='green', label='Predicted Temperature')\n",
    "plt.xlabel(\"Hours Ahead\")\n",
    "plt.ylabel(\"Temperature\")\n",
    "plt.title(\"Next 24-Hour Weather Prediction\")\n",
    "plt.legend()\n",
    "plt.show()"
   ]
  }
 ],
 "metadata": {
  "language_info": {
   "name": "python"
  }
 },
 "nbformat": 4,
 "nbformat_minor": 5
}
