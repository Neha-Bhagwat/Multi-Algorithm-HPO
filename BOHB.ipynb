{
 "cells": [
  {
   "cell_type": "code",
   "execution_count": null,
   "id": "420d7709",
   "metadata": {},
   "outputs": [],
   "source": [
    "import time\n",
    "import logging\n",
    "import os\n",
    "import random\n",
    "import pandas as pd\n",
    "import numpy as np\n",
    "import tensorflow as tf\n",
    "import ConfigSpace as CS\n",
    "import ConfigSpace.hyperparameters as CSH\n",
    "import hpbandster.core.nameserver as hpns"
   ]
  },
  {
   "cell_type": "code",
   "execution_count": null,
   "id": "1b76acfd",
   "metadata": {},
   "outputs": [],
   "source": [
    "from hpbandster.optimizers import BOHB\n",
    "from hpbandster.core.worker import Worker\n",
    "from tensorflow import keras\n",
    "from sklearn.model_selection import train_test_split\n",
    "from sklearn.preprocessing import StandardScaler"
   ]
  },
  {
   "cell_type": "code",
   "execution_count": null,
   "id": "0471e78c",
   "metadata": {},
   "outputs": [],
   "source": [
    "os.environ['TF_CPP_MIN_LOG_LEVEL'] = '3'\n",
    "tf.get_logger().setLevel('ERROR')"
   ]
  },
  {
   "cell_type": "code",
   "execution_count": null,
   "id": "44a0673e",
   "metadata": {},
   "outputs": [],
   "source": [
    "df=pd.read_csv(\"ECTA 2023 Dataset.csv\")\n",
    "features = ['Relative Humidity', 'Wind Speed', 'Visibility', 'Pressure', 'Wind_Chill', 'Dewpoint Temp']\n",
    "target = 'Temperature'"
   ]
  },
  {
   "cell_type": "code",
   "execution_count": null,
   "id": "f40931a2",
   "metadata": {},
   "outputs": [],
   "source": [
    "df=df.dropna()\n",
    "X=df[features].values\n",
    "Y=df[target].values"
   ]
  },
  {
   "cell_type": "code",
   "execution_count": null,
   "id": "8beaeb36",
   "metadata": {},
   "outputs": [],
   "source": [
    "X_train,X_test,Y_train,Y_test=train_test_split(X,Y,test_size=0.2, random_state=40)\n",
    "scaler=StandardScaler()\n",
    "X_train=scaler.fit_transform(X_train)\n",
    "X_test=scaler.transform(X_test)"
   ]
  },
  {
   "cell_type": "code",
   "execution_count": null,
   "id": "ac9e927f",
   "metadata": {},
   "outputs": [],
   "source": [
    "def build_ann(lr,neurons1,neurons2):\n",
    "    model=keras.Sequential([\n",
    "        keras.layers.Input(shape=(X_train.shape[1],)),\n",
    "        keras.layers.Dense(neurons1,activation='relu'),\n",
    "        keras.layers.Dense(neurons2,activation='relu'),\n",
    "        keras.layers.Dense(1,activation='linear')\n",
    "    ])\n",
    "    optimizer=keras.optimizers.Adam(learning_rate=lr)\n",
    "    model.compile(optimizer=optimizer,loss='mean_squared_error',metrics=['mae'])\n",
    "    return model"
   ]
  },
  {
   "cell_type": "code",
   "execution_count": null,
   "id": "d7abd367",
   "metadata": {},
   "outputs": [],
   "source": [
    "class ANNWorker(Worker):\n",
    "    def compute(self,config,budget,**kwargs):\n",
    "        n1=int(config['neurons1'])\n",
    "        n2=int(config['neurons2'])\n",
    "        bs=int(config['batch_size'])\n",
    "        lr=config['lr']\n",
    "\n",
    "        model=build_ann(lr,n1,n2)\n",
    "        model.fit(X_train,Y_train,epoch=int(budget),batch_size=bs,verbose=1)\n",
    "        mae=model.evaluate(X_test,Y_test,verbose=1)\n",
    "        return{\n",
    "            'loss': mae,\n",
    "            'info' : {'mae':mae,'loss':loss}\n",
    "        }\n",
    "    \n",
    "    def get_configspace():\n",
    "        cs = CS.ConfigurationSpace()\n",
    "        cs.add_hyperparameter(CSH.UniformFloatHyperparameter('lr', 1e-4, 1e-2, log=True))\n",
    "        cs.add_hyperparameter(CSH.UniformIntegerHyperparameter('neurons1', 32, 128))\n",
    "        cs.add_hyperparameter(CSH.UniformIntegerHyperparameter('neurons2', 32, 128))\n",
    "        cs.add_hyperparameter(CSH.UniformIntegerHyperparameter('batch_size', 16, 128))\n",
    "        return cs\n"
   ]
  },
  {
   "cell_type": "markdown",
   "id": "aa992ded",
   "metadata": {},
   "source": [
    "BOHB Setup and Run"
   ]
  },
  {
   "cell_type": "code",
   "execution_count": null,
   "id": "66cb7385",
   "metadata": {},
   "outputs": [],
   "source": [
    "NS = hpns.NameServer(run_id='simple_bohb', host='localhost', port=None)\n",
    "NS.start()"
   ]
  },
  {
   "cell_type": "code",
   "execution_count": null,
   "id": "e07a4e03",
   "metadata": {},
   "outputs": [],
   "source": [
    "worker = ANNWorker(run_id='simple_bohb')\n",
    "worker.run(background=True)\n",
    "\n",
    "bohb = BOHB(\n",
    "    configspace=ANNWorker.get_configspace(),\n",
    "    run_id='simple_bohb',\n",
    "    nameserver='localhost',\n",
    "    min_budget=5,\n",
    "    max_budget=30\n",
    ")\n",
    "  # epochs from 5 to 30\n",
    "res = bohb.run(n_iterations=10)"
   ]
  },
  {
   "cell_type": "markdown",
   "id": "504b8b32",
   "metadata": {},
   "source": [
    "Print Best Result"
   ]
  },
  {
   "cell_type": "code",
   "execution_count": null,
   "id": "0e323aeb",
   "metadata": {},
   "outputs": [],
   "source": [
    "best_config = res.get_id2config_mapping()[res.get_incumbent_id()]['config']\n",
    "print(\"Best Hyperparameters Found:\")\n",
    "print(best_config)\n",
    "\n",
    "bohb.shutdown(shutdown_workers=True)\n",
    "NS.shutdown()"
   ]
  }
 ],
 "metadata": {
  "language_info": {
   "name": "python"
  }
 },
 "nbformat": 4,
 "nbformat_minor": 5
}
