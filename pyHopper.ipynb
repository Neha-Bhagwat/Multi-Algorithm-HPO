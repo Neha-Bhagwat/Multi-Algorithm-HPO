{
  "nbformat": 4,
  "nbformat_minor": 0,
  "metadata": {
    "colab": {
      "provenance": []
    },
    "kernelspec": {
      "name": "python3",
      "display_name": "Python 3"
    },
    "language_info": {
      "name": "python"
    }
  },
  "cells": [
    {
      "cell_type": "code",
      "execution_count": null,
      "metadata": {
        "colab": {
          "base_uri": "https://localhost:8080/",
          "height": 73
        },
        "id": "B2_x7Htr6CqD",
        "outputId": "89ba041d-8ed2-4b04-fdb4-55726ce9f924"
      },
      "outputs": [
        {
          "output_type": "display_data",
          "data": {
            "text/plain": [
              "<IPython.core.display.HTML object>"
            ],
            "text/html": [
              "\n",
              "     <input type=\"file\" id=\"files-5d7e3aed-4a48-46b0-8896-f82bee3f6405\" name=\"files[]\" multiple disabled\n",
              "        style=\"border:none\" />\n",
              "     <output id=\"result-5d7e3aed-4a48-46b0-8896-f82bee3f6405\">\n",
              "      Upload widget is only available when the cell has been executed in the\n",
              "      current browser session. Please rerun this cell to enable.\n",
              "      </output>\n",
              "      <script>// Copyright 2017 Google LLC\n",
              "//\n",
              "// Licensed under the Apache License, Version 2.0 (the \"License\");\n",
              "// you may not use this file except in compliance with the License.\n",
              "// You may obtain a copy of the License at\n",
              "//\n",
              "//      http://www.apache.org/licenses/LICENSE-2.0\n",
              "//\n",
              "// Unless required by applicable law or agreed to in writing, software\n",
              "// distributed under the License is distributed on an \"AS IS\" BASIS,\n",
              "// WITHOUT WARRANTIES OR CONDITIONS OF ANY KIND, either express or implied.\n",
              "// See the License for the specific language governing permissions and\n",
              "// limitations under the License.\n",
              "\n",
              "/**\n",
              " * @fileoverview Helpers for google.colab Python module.\n",
              " */\n",
              "(function(scope) {\n",
              "function span(text, styleAttributes = {}) {\n",
              "  const element = document.createElement('span');\n",
              "  element.textContent = text;\n",
              "  for (const key of Object.keys(styleAttributes)) {\n",
              "    element.style[key] = styleAttributes[key];\n",
              "  }\n",
              "  return element;\n",
              "}\n",
              "\n",
              "// Max number of bytes which will be uploaded at a time.\n",
              "const MAX_PAYLOAD_SIZE = 100 * 1024;\n",
              "\n",
              "function _uploadFiles(inputId, outputId) {\n",
              "  const steps = uploadFilesStep(inputId, outputId);\n",
              "  const outputElement = document.getElementById(outputId);\n",
              "  // Cache steps on the outputElement to make it available for the next call\n",
              "  // to uploadFilesContinue from Python.\n",
              "  outputElement.steps = steps;\n",
              "\n",
              "  return _uploadFilesContinue(outputId);\n",
              "}\n",
              "\n",
              "// This is roughly an async generator (not supported in the browser yet),\n",
              "// where there are multiple asynchronous steps and the Python side is going\n",
              "// to poll for completion of each step.\n",
              "// This uses a Promise to block the python side on completion of each step,\n",
              "// then passes the result of the previous step as the input to the next step.\n",
              "function _uploadFilesContinue(outputId) {\n",
              "  const outputElement = document.getElementById(outputId);\n",
              "  const steps = outputElement.steps;\n",
              "\n",
              "  const next = steps.next(outputElement.lastPromiseValue);\n",
              "  return Promise.resolve(next.value.promise).then((value) => {\n",
              "    // Cache the last promise value to make it available to the next\n",
              "    // step of the generator.\n",
              "    outputElement.lastPromiseValue = value;\n",
              "    return next.value.response;\n",
              "  });\n",
              "}\n",
              "\n",
              "/**\n",
              " * Generator function which is called between each async step of the upload\n",
              " * process.\n",
              " * @param {string} inputId Element ID of the input file picker element.\n",
              " * @param {string} outputId Element ID of the output display.\n",
              " * @return {!Iterable<!Object>} Iterable of next steps.\n",
              " */\n",
              "function* uploadFilesStep(inputId, outputId) {\n",
              "  const inputElement = document.getElementById(inputId);\n",
              "  inputElement.disabled = false;\n",
              "\n",
              "  const outputElement = document.getElementById(outputId);\n",
              "  outputElement.innerHTML = '';\n",
              "\n",
              "  const pickedPromise = new Promise((resolve) => {\n",
              "    inputElement.addEventListener('change', (e) => {\n",
              "      resolve(e.target.files);\n",
              "    });\n",
              "  });\n",
              "\n",
              "  const cancel = document.createElement('button');\n",
              "  inputElement.parentElement.appendChild(cancel);\n",
              "  cancel.textContent = 'Cancel upload';\n",
              "  const cancelPromise = new Promise((resolve) => {\n",
              "    cancel.onclick = () => {\n",
              "      resolve(null);\n",
              "    };\n",
              "  });\n",
              "\n",
              "  // Wait for the user to pick the files.\n",
              "  const files = yield {\n",
              "    promise: Promise.race([pickedPromise, cancelPromise]),\n",
              "    response: {\n",
              "      action: 'starting',\n",
              "    }\n",
              "  };\n",
              "\n",
              "  cancel.remove();\n",
              "\n",
              "  // Disable the input element since further picks are not allowed.\n",
              "  inputElement.disabled = true;\n",
              "\n",
              "  if (!files) {\n",
              "    return {\n",
              "      response: {\n",
              "        action: 'complete',\n",
              "      }\n",
              "    };\n",
              "  }\n",
              "\n",
              "  for (const file of files) {\n",
              "    const li = document.createElement('li');\n",
              "    li.append(span(file.name, {fontWeight: 'bold'}));\n",
              "    li.append(span(\n",
              "        `(${file.type || 'n/a'}) - ${file.size} bytes, ` +\n",
              "        `last modified: ${\n",
              "            file.lastModifiedDate ? file.lastModifiedDate.toLocaleDateString() :\n",
              "                                    'n/a'} - `));\n",
              "    const percent = span('0% done');\n",
              "    li.appendChild(percent);\n",
              "\n",
              "    outputElement.appendChild(li);\n",
              "\n",
              "    const fileDataPromise = new Promise((resolve) => {\n",
              "      const reader = new FileReader();\n",
              "      reader.onload = (e) => {\n",
              "        resolve(e.target.result);\n",
              "      };\n",
              "      reader.readAsArrayBuffer(file);\n",
              "    });\n",
              "    // Wait for the data to be ready.\n",
              "    let fileData = yield {\n",
              "      promise: fileDataPromise,\n",
              "      response: {\n",
              "        action: 'continue',\n",
              "      }\n",
              "    };\n",
              "\n",
              "    // Use a chunked sending to avoid message size limits. See b/62115660.\n",
              "    let position = 0;\n",
              "    do {\n",
              "      const length = Math.min(fileData.byteLength - position, MAX_PAYLOAD_SIZE);\n",
              "      const chunk = new Uint8Array(fileData, position, length);\n",
              "      position += length;\n",
              "\n",
              "      const base64 = btoa(String.fromCharCode.apply(null, chunk));\n",
              "      yield {\n",
              "        response: {\n",
              "          action: 'append',\n",
              "          file: file.name,\n",
              "          data: base64,\n",
              "        },\n",
              "      };\n",
              "\n",
              "      let percentDone = fileData.byteLength === 0 ?\n",
              "          100 :\n",
              "          Math.round((position / fileData.byteLength) * 100);\n",
              "      percent.textContent = `${percentDone}% done`;\n",
              "\n",
              "    } while (position < fileData.byteLength);\n",
              "  }\n",
              "\n",
              "  // All done.\n",
              "  yield {\n",
              "    response: {\n",
              "      action: 'complete',\n",
              "    }\n",
              "  };\n",
              "}\n",
              "\n",
              "scope.google = scope.google || {};\n",
              "scope.google.colab = scope.google.colab || {};\n",
              "scope.google.colab._files = {\n",
              "  _uploadFiles,\n",
              "  _uploadFilesContinue,\n",
              "};\n",
              "})(self);\n",
              "</script> "
            ]
          },
          "metadata": {}
        },
        {
          "output_type": "stream",
          "name": "stdout",
          "text": [
            "Saving ECTA 2023 Dataset.csv to ECTA 2023 Dataset.csv\n"
          ]
        }
      ],
      "source": [
        "from google.colab import files\n",
        "uploaded = files.upload()"
      ]
    },
    {
      "cell_type": "code",
      "source": [
        "!pip install pyhopper"
      ],
      "metadata": {
        "colab": {
          "base_uri": "https://localhost:8080/"
        },
        "id": "seTRpH7B6m4b",
        "outputId": "a4a78cd5-0d17-4095-fb4d-dd17f9ca4c52"
      },
      "execution_count": null,
      "outputs": [
        {
          "output_type": "stream",
          "name": "stdout",
          "text": [
            "Collecting pyhopper\n",
            "  Downloading pyhopper-1.2.3-py3-none-any.whl.metadata (780 bytes)\n",
            "Requirement already satisfied: future in /usr/local/lib/python3.11/dist-packages (from pyhopper) (1.0.0)\n",
            "Requirement already satisfied: numpy in /usr/local/lib/python3.11/dist-packages (from pyhopper) (2.0.2)\n",
            "Requirement already satisfied: packaging in /usr/local/lib/python3.11/dist-packages (from pyhopper) (24.2)\n",
            "Requirement already satisfied: psutil in /usr/local/lib/python3.11/dist-packages (from pyhopper) (5.9.5)\n",
            "Requirement already satisfied: tqdm in /usr/local/lib/python3.11/dist-packages (from pyhopper) (4.67.1)\n",
            "Downloading pyhopper-1.2.3-py3-none-any.whl (45 kB)\n",
            "\u001b[?25l   \u001b[90m━━━━━━━━━━━━━━━━━━━━━━━━━━━━━━━━━━━━━━━━\u001b[0m \u001b[32m0.0/46.0 kB\u001b[0m \u001b[31m?\u001b[0m eta \u001b[36m-:--:--\u001b[0m\r\u001b[2K   \u001b[90m━━━━━━━━━━━━━━━━━━━━━━━━━━━━━━━━━━━━━━━━\u001b[0m \u001b[32m46.0/46.0 kB\u001b[0m \u001b[31m1.8 MB/s\u001b[0m eta \u001b[36m0:00:00\u001b[0m\n",
            "\u001b[?25hInstalling collected packages: pyhopper\n",
            "Successfully installed pyhopper-1.2.3\n"
          ]
        }
      ]
    },
    {
      "cell_type": "code",
      "source": [
        "import pyhopper\n",
        "import numpy as np\n",
        "import tensorflow as tf\n",
        "from tensorflow import keras\n",
        "from sklearn.model_selection import train_test_split\n",
        "from sklearn.preprocessing import StandardScaler\n",
        "import pandas as pd\n",
        "import random\n",
        "import time\n",
        "import os"
      ],
      "metadata": {
        "id": "ERVfEbsYncIZ"
      },
      "execution_count": null,
      "outputs": []
    },
    {
      "cell_type": "code",
      "source": [
        "df = pd.read_csv(\"ECTA 2023 Dataset.csv\")\n",
        "features = ['Relative Humidity', 'Wind Speed', 'Visibility', 'Pressure', 'Wind_Chill', 'Dewpoint Temp']\n",
        "target = 'Temperature'"
      ],
      "metadata": {
        "id": "-0tj1Mnb6nhz"
      },
      "execution_count": null,
      "outputs": []
    },
    {
      "cell_type": "code",
      "source": [
        "df.dropna(inplace=True)\n",
        "X = df[features].values\n",
        "Y = df[target].values"
      ],
      "metadata": {
        "id": "jzKkSk-m6nkB"
      },
      "execution_count": null,
      "outputs": []
    },
    {
      "cell_type": "code",
      "source": [
        "SEED = 42\n",
        "random.seed(SEED)\n",
        "np.random.seed(SEED)\n",
        "tf.random.set_seed(SEED)\n",
        "os.environ['PYTHONHASHSEED'] = str(SEED)"
      ],
      "metadata": {
        "id": "msxlyTViqFIO"
      },
      "execution_count": 14,
      "outputs": []
    },
    {
      "cell_type": "code",
      "source": [
        "X_train, X_test, Y_train, Y_test = train_test_split(X, Y, test_size=0.2, random_state=SEED)\n",
        "scaler = StandardScaler()\n",
        "X_train = scaler.fit_transform(X_train)\n",
        "X_test = scaler.transform(X_test)"
      ],
      "metadata": {
        "id": "DKeC98ep6nmF"
      },
      "execution_count": 15,
      "outputs": []
    },
    {
      "cell_type": "code",
      "source": [
        "top_maes = []"
      ],
      "metadata": {
        "id": "pF2cUVoq6npl"
      },
      "execution_count": 16,
      "outputs": []
    },
    {
      "cell_type": "code",
      "source": [
        "def objective_function(params):\n",
        "    lr = params['lr']\n",
        "    n1 = int(params['n1'])\n",
        "    n2 = int(params['n2'])\n",
        "    bs = int(params['bs'])\n",
        "\n",
        "    model = keras.Sequential([\n",
        "        keras.layers.Input(shape=(X_train.shape[1],)),\n",
        "        keras.layers.Dense(n1, activation='relu'),\n",
        "        keras.layers.Dense(n2, activation='relu'),\n",
        "        keras.layers.Dense(1)\n",
        "    ])\n",
        "    model.compile(optimizer=keras.optimizers.Adam(learning_rate=lr),\n",
        "                  loss='mse', metrics=['mae'])\n",
        "    model.fit(X_train, Y_train, epochs=10, batch_size=bs, verbose=0)\n",
        "    loss, mae = model.evaluate(X_test, Y_test, verbose=0)\n",
        "\n",
        "    top_maes.append(mae)\n",
        "    print(f\"MAE: {mae:.4f} | Params: {params}\")\n",
        "    return mae"
      ],
      "metadata": {
        "id": "0zM_85dB6wtb"
      },
      "execution_count": 17,
      "outputs": []
    },
    {
      "cell_type": "code",
      "source": [],
      "metadata": {
        "id": "82fV2ff_6wvY"
      },
      "execution_count": null,
      "outputs": []
    },
    {
      "cell_type": "code",
      "source": [
        "search_space = {\n",
        "    'lr': pyhopper.float(0.0005, 0.05),\n",
        "    'n1': pyhopper.int(10, 100),\n",
        "    'n2': pyhopper.int(10, 100),\n",
        "    'bs': pyhopper.int(16, 128)\n",
        "}"
      ],
      "metadata": {
        "id": "IxMHtaSv6wxa"
      },
      "execution_count": 18,
      "outputs": []
    },
    {
      "cell_type": "code",
      "source": [
        "search = pyhopper.Search(search_space)\n",
        "best_params = search.run(\n",
        "    objective_function,\n",
        "    direction=\"minimize\",\n",
        "    runtime=\"10m\",\n",
        "    n_jobs=1\n",
        ")"
      ],
      "metadata": {
        "id": "Fi7lUKdh6wzR",
        "colab": {
          "base_uri": "https://localhost:8080/",
          "height": 413,
          "referenced_widgets": [
            "c22bb70fe2c54eb19e534b8d021cfd07",
            "336a20c92bad45c6b7640a98202fc2f2",
            "de6aa327a2d64df89add3f34d5db9cf2",
            "1e222afed9904867b055720981ebf1ed",
            "ccc4308d501d4c158ad486b5a1d2a18b",
            "5f84c8400eaf458794fe064408c28562",
            "e3dce26244894bcaa853a3c99a96857c",
            "3fcf00f96f3c4847bbafe732a4eff1cb",
            "ae5740ae42404cefb402af7a139f76f9",
            "10cf3887670145a7a633d02085b0759c",
            "8aa39444d2de4575beb905c4e0b287be"
          ]
        },
        "outputId": "bc5eb09f-3b6f-4531-a2b8-a9a6f313b29c"
      },
      "execution_count": 19,
      "outputs": [
        {
          "output_type": "display_data",
          "data": {
            "text/plain": [
              "  0%|          | [00:00<?]"
            ],
            "application/vnd.jupyter.widget-view+json": {
              "version_major": 2,
              "version_minor": 0,
              "model_id": "c22bb70fe2c54eb19e534b8d021cfd07"
            }
          },
          "metadata": {}
        },
        {
          "output_type": "stream",
          "name": "stdout",
          "text": [
            "Search is scheduled for 10:00 (m:s)\n",
            "MAE: 0.1873 | Params: {'lr': 0.02525, 'n1': 55, 'n2': 55, 'bs': 72}\n",
            "MAE: 0.0764 | Params: {'lr': 0.012584010846477419, 'n1': 69, 'n2': 13, 'bs': 26}\n",
            "MAE: 0.1066 | Params: {'lr': 0.008728118299586949, 'n1': 45, 'n2': 64, 'bs': 67}\n",
            "MAE: 0.1537 | Params: {'lr': 0.0005695926546847818, 'n1': 13, 'n2': 36, 'bs': 99}\n",
            "MAE: 0.0787 | Params: {'lr': 0.0023422643302840242, 'n1': 54, 'n2': 42, 'bs': 26}\n",
            "MAE: 0.1240 | Params: {'lr': 0.017932178905253386, 'n1': 69, 'n2': 18, 'bs': 45}\n",
            "MAE: 0.1437 | Params: {'lr': 0.025491824415983164, 'n1': 73, 'n2': 13, 'bs': 26}\n",
            "MAE: 0.0801 | Params: {'lr': 0.012584010846477419, 'n1': 69, 'n2': 32, 'bs': 52}\n",
            "MAE: 0.0867 | Params: {'lr': 0.007501841459051498, 'n1': 69, 'n2': 13, 'bs': 50}\n",
            "MAE: 0.0925 | Params: {'lr': 0.012584010846477419, 'n1': 55, 'n2': 19, 'bs': 26}\n",
            "MAE: 0.0857 | Params: {'lr': 0.012584010846477419, 'n1': 71, 'n2': 13, 'bs': 26}\n",
            "==================== Summary ====================\n",
            "Mode              : Best f  : Steps : Time       \n",
            "----------------  : ----    : ----  : ----       \n",
            "Initial solution  : 0.1873  : 1     : 29 s       \n",
            "Random seeding    : 0.07638 : 3     : 02:13 (m:s)\n",
            "Local sampling    : 0.07873 : 7     : 07:01 (m:s)\n",
            "----------------  : ----    : ----  : ----       \n",
            "Total             : 0.07638 : 11    : 09:43 (m:s)\n",
            "=================================================\n"
          ]
        }
      ]
    },
    {
      "cell_type": "code",
      "source": [
        "print(\"\\n Best configuration found:\")\n",
        "print(best_params)\n",
        "final_mae = objective_function(best_params)\n",
        "print(f\"Final MAE: {final_mae:.4f}\")"
      ],
      "metadata": {
        "id": "C4i0U6ks6w2w",
        "colab": {
          "base_uri": "https://localhost:8080/"
        },
        "outputId": "1a27cab3-cf51-4a71-e395-e8a71a146e41"
      },
      "execution_count": 20,
      "outputs": [
        {
          "output_type": "stream",
          "name": "stdout",
          "text": [
            "\n",
            " Best configuration found:\n",
            "{'lr': 0.012584010846477419, 'n1': 69, 'n2': 13, 'bs': 26}\n",
            "MAE: 0.0825 | Params: {'lr': 0.012584010846477419, 'n1': 69, 'n2': 13, 'bs': 26}\n",
            "Final MAE: 0.0825\n"
          ]
        }
      ]
    },
    {
      "cell_type": "code",
      "source": [
        "# Show top MAEs during the search\n",
        "top_maes.sort()\n",
        "print(\"\\n Top 5 lowest MAEs found during search:\")\n",
        "for i, val in enumerate(top_maes[:5]):\n",
        "    print(f\"{i+1}. MAE = {val:.4f}\")"
      ],
      "metadata": {
        "id": "O45YZ_DE6_OU",
        "colab": {
          "base_uri": "https://localhost:8080/"
        },
        "outputId": "096c7f53-aa1f-493f-dc15-58db83bd2a09"
      },
      "execution_count": 21,
      "outputs": [
        {
          "output_type": "stream",
          "name": "stdout",
          "text": [
            "\n",
            " Top 5 lowest MAEs found during search:\n",
            "1. MAE = 0.0764\n",
            "2. MAE = 0.0787\n",
            "3. MAE = 0.0801\n",
            "4. MAE = 0.0825\n",
            "5. MAE = 0.0857\n"
          ]
        }
      ]
    }
  ]
}